{
 "cells": [
  {
   "cell_type": "markdown",
   "id": "a26d509e-06d1-40f8-9464-af6ee976091c",
   "metadata": {},
   "source": [
    "# Data Science Tools and Ecosystem\n"
   ]
  },
  {
   "cell_type": "markdown",
   "id": "61b31055-8cfb-45a4-aae4-337b81844326",
   "metadata": {},
   "source": [
    "## Introduction\n",
    "This notebook will demonstrate various tasks related to data science.\n"
   ]
  },
  {
   "cell_type": "markdown",
   "id": "55432f46-cb4a-4f4a-9bc0-baaf6d122b99",
   "metadata": {},
   "source": [
    "## Data Science Languages\n",
    "- Python\n",
    "- R\n",
    "- SQL\n",
    "- Julia\n",
    "- Scala"
   ]
  },
  {
   "cell_type": "markdown",
   "id": "c7175c51-b0fe-4e9b-a82f-b7f15b555b1a",
   "metadata": {},
   "source": [
    "## Data Science Libraries\n",
    "- NumPy\n",
    "- Pandas\n",
    "- Matplotlib\n",
    "- Scikit-learn\n",
    "- TensorFlow\n"
   ]
  },
  {
   "cell_type": "markdown",
   "id": "e8ecfb99-23f1-48af-a10b-668bca2e6b03",
   "metadata": {},
   "source": [
    "## Data Science Tools\n",
    "\n",
    "| Tool          | Description                      |\n",
    "|---------------|----------------------------------|\n",
    "| Jupyter       | Interactive computing environment|\n",
    "| RStudio       | IDE for R                        |\n",
    "| Apache Spark  | Big data processing framework    |\n",
    "| Tableau       | Data visualization tool          |\n"
   ]
  },
  {
   "cell_type": "markdown",
   "id": "c294b872-5af1-4724-a07a-b6dea0f64234",
   "metadata": {},
   "source": [
    "## Arithmetic Expression Examples\n",
    "Below are some examples of arithmetic expressions in Python.\n"
   ]
  },
  {
   "cell_type": "code",
   "execution_count": null,
   "id": "32cf89b9-fa0f-46d9-a3bb-24e2e557d0de",
   "metadata": {},
   "outputs": [],
   "source": [
    "# Multiply and add numbers\n",
    "result = (3 * 4) + 5\n",
    "result\n"
   ]
  },
  {
   "cell_type": "code",
   "execution_count": null,
   "id": "4091ad14-ea23-4f66-b361-a0745e0d0fe2",
   "metadata": {},
   "outputs": [],
   "source": [
    "# Convert minutes to hours\n",
    "minutes = 120\n",
    "hours = minutes / 60\n",
    "hours\n"
   ]
  },
  {
   "cell_type": "markdown",
   "id": "213488cb-6f87-4896-9891-97c10e0ace4d",
   "metadata": {},
   "source": [
    "## Objectives\r\n",
    "- Understand basic markdown syntax.\r\n",
    "- Learn how to create and format markdown cells.\r\n",
    "- Perform basic arithmetic operations in code cells.\r\n",
    "- Convert units using code cells.\r\n"
   ]
  },
  {
   "cell_type": "markdown",
   "id": "6c953026-a73d-4d13-87e5-94b9a0660841",
   "metadata": {},
   "source": [
    "## Author\r",
    "Hillel Kahane\r\n"
   ]
  }
 ],
 "metadata": {
  "kernelspec": {
   "display_name": "Python 3 (ipykernel)",
   "language": "python",
   "name": "python3"
  },
  "language_info": {
   "codemirror_mode": {
    "name": "ipython",
    "version": 3
   },
   "file_extension": ".py",
   "mimetype": "text/x-python",
   "name": "python",
   "nbconvert_exporter": "python",
   "pygments_lexer": "ipython3",
   "version": "3.11.7"
  }
 },
 "nbformat": 4,
 "nbformat_minor": 5
}
